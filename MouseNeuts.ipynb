{
 "cells": [
  {
   "cell_type": "markdown",
   "metadata": {},
   "source": [
    "# Make Neut Curves and Analyze Mouse Neuts"
   ]
  },
  {
   "cell_type": "code",
   "execution_count": null,
   "metadata": {},
   "outputs": [],
   "source": [
    "import math\n",
    "\n",
    "import pandas as pd\n",
    "import numpy as np\n",
    "import seaborn as sns\n",
    "\n",
    "import neutcurve\n",
    "\n",
    "from plotnine import *\n",
    "\n",
    "import csv\n",
    "import matplotlib.pyplot as plt\n",
    "from matplotlib.backends.backend_pdf import PdfPages\n",
    "from matplotlib.font_manager import FontProperties\n",
    "\n",
    "import scipy.stats\n",
    "\n",
    "from IPython.display import display, HTML"
   ]
  },
  {
   "cell_type": "code",
   "execution_count": null,
   "metadata": {},
   "outputs": [],
   "source": [
    "CBP = neutcurve.colorschemes.CBPALETTE\n",
    "CBM = neutcurve.colorschemes.CBMARKERS\n",
    "theme_set(theme_seaborn(style='white', context='talk', font_scale=1))"
   ]
  },
  {
   "cell_type": "code",
   "execution_count": null,
   "metadata": {},
   "outputs": [],
   "source": [
    "fidfs = {}\n",
    "fidfs['rnd1'] = pd.read_csv('./fract_infect/201015_fractinfect.csv').drop(['Unnamed: 0'], axis=1)\n",
    "fidfs['rnd2'] = pd.read_csv('./fract_infect/201016_fractinfect_rnd2.csv').drop(['Unnamed: 0'], axis=1)\n",
    "fidfs['rnd3'] = pd.read_csv('./fract_infect/201017_fractinfect_rnd3.csv').drop(['Unnamed: 0'], axis=1)\n",
    "fidfs['rnd4'] = pd.read_csv('./fract_infect/201020_fractinfect_rnd4.csv').drop(['Unnamed: 0'], axis=1)\n",
    "fidfs['rnd5'] = pd.read_csv('./fract_infect/201021_fractinfect_rnd5.csv').drop(['Unnamed: 0'], axis=1)\n",
    "fidfs['rnd6'] = pd.read_csv('./fract_infect/201022_fractinfect_rnd6.csv').drop(['Unnamed: 0'], axis=1)"
   ]
  },
  {
   "cell_type": "code",
   "execution_count": null,
   "metadata": {},
   "outputs": [],
   "source": [
    "for fidf in fidfs.keys():\n",
    "    display(HTML(fidfs[fidf].head().to_html(index=False)))"
   ]
  },
  {
   "cell_type": "code",
   "execution_count": null,
   "metadata": {},
   "outputs": [],
   "source": [
    "smpls = {}\n",
    "smpls['rnd1'] = pd.read_csv('./sample_maps/rnd1_sample_map.csv').rename(columns={'Sample': 'serum'})\n",
    "smpls['rnd2'] = pd.read_csv('./sample_maps/rnd2_sample_map.csv').rename(columns={'Sample': 'serum'})\n",
    "smpls['rnd3'] = pd.read_csv('./sample_maps/rnd3_sample_map.csv').rename(columns={'Sample': 'serum'})\n",
    "smpls['rnd4'] = pd.read_csv('./sample_maps/rnd4_sample_map.csv').rename(columns={'Sample': 'serum'})\n",
    "smpls['rnd5'] = pd.read_csv('./sample_maps/rnd5_sample_map.csv').rename(columns={'Sample': 'serum'})\n",
    "smpls['rnd6'] = pd.read_csv('./sample_maps/rnd6_sample_map.csv').rename(columns={'Sample': 'serum'})"
   ]
  },
  {
   "cell_type": "code",
   "execution_count": null,
   "metadata": {},
   "outputs": [],
   "source": [
    "for smpl in smpls.keys():\n",
    "    display(HTML(smpls[smpl].head().to_html(index=False)))"
   ]
  },
  {
   "cell_type": "markdown",
   "metadata": {},
   "source": [
    "#### Add plate number to fraction infectivity df"
   ]
  },
  {
   "cell_type": "code",
   "execution_count": null,
   "metadata": {},
   "outputs": [],
   "source": [
    "dfs={}\n",
    "for rnd in fidfs.keys():\n",
    "    dfs[rnd] = fidfs[rnd].merge(smpls[rnd], how='outer', on='serum').drop(['Virus', 'PlateLayout', 'StartDil', 'DilFactor'], axis=1)"
   ]
  },
  {
   "cell_type": "code",
   "execution_count": null,
   "metadata": {},
   "outputs": [],
   "source": [
    "for rnd in dfs.keys():\n",
    "    display(HTML(dfs[rnd].head().to_html(index=False))"
   ]
  },
  {
   "cell_type": "markdown",
   "metadata": {},
   "source": [
    "### Fix Plate 4 Issue for Rnd1\n",
    "\n",
    "I forgot to discard the last 30 uL from the serum dilutions in row H of plate 4 in Rnd1, so I need to drop the final dilution for all plate "
   ]
  },
  {
   "cell_type": "code",
   "execution_count": null,
   "metadata": {},
   "outputs": [],
   "source": [
    "dfs['rnd1'].drop(dfs['rnd1'][(dfs['rnd1']['Plate']=='Plate4')&(dfs['rnd1']['concentration']==(0.05/(3**6)))].index, axis=0, inplace=True)\n",
    "dfs['rnd1'] = dfs['rnd1'].sort_values(['Plate', 'SampleNum', 'replicate'])\n",
    "display(HTML(dfs['rnd1'].to_html(index=False)))"
   ]
  },
  {
   "cell_type": "markdown",
   "metadata": {},
   "source": [
    "## Calculate Fits using Neut Curve\n",
    "\n",
    "For some reason must drop serum pool from rnd2."
   ]
  },
  {
   "cell_type": "code",
   "execution_count": null,
   "metadata": {},
   "outputs": [],
   "source": [
    "display(HTML(dfs['rnd2'][dfs['rnd2']['serum'] == '2017-2018 serum pool'].to_html(index=False)))"
   ]
  },
  {
   "cell_type": "code",
   "execution_count": null,
   "metadata": {},
   "outputs": [],
   "source": [
    "dfs['rnd2'] = dfs['rnd2'][dfs['rnd2']['serum'] != '2017-2018 serum pool']"
   ]
  },
  {
   "cell_type": "code",
   "execution_count": null,
   "metadata": {},
   "outputs": [],
   "source": [
    "fits = {}\n",
    "fit_params = {}\n",
    "\n",
    "for rnd in dfs.keys():\n",
    "    fits[rnd] = neutcurve.CurveFits(dfs[rnd], fixtop=True)\n",
    "    fit_params[rnd] = fits[rnd].fitParams(ics=[50, 90])\n",
    "    fit_params[rnd]['nt50'] = 1/fit_params[rnd]['ic50']\n",
    "    fit_params[rnd]['nt90'] = 1/fit_params[rnd]['ic90']"
   ]
  },
  {
   "cell_type": "code",
   "execution_count": null,
   "metadata": {},
   "outputs": [],
   "source": [
    "for rnd in fit_params.keys():\n",
    "    display(HTML(fit_params[rnd].head().to_html(index=False)))\n"
   ]
  },
  {
   "cell_type": "markdown",
   "metadata": {},
   "source": [
    "### Merge fit parameter data and sample data"
   ]
  },
  {
   "cell_type": "code",
   "execution_count": null,
   "metadata": {},
   "outputs": [],
   "source": [
    "fits_dfs = {}\n",
    "\n",
    "for rnd in fit_params.keys():\n",
    "    fits_dfs[rnd] = pd.merge(fit_params[rnd], smpls[rnd], how='outer', on='serum')\n",
    "    fits_dfs[rnd].drop(['PlateLayout', 'Virus', 'DilFactor', 'StartDil'], axis=1, inplace=True)"
   ]
  },
  {
   "cell_type": "code",
   "execution_count": null,
   "metadata": {},
   "outputs": [],
   "source": [
    "for rnd in fits_dfs.keys():\n",
    "    display(HTML(fits_dfs[rnd].head().to_html(index=False))"
   ]
  },
  {
   "cell_type": "markdown",
   "metadata": {},
   "source": [
    "### Find any samples with interpolated IC50s\n",
    "\n",
    "Note that these samples were re-run in later rounds of neuts"
   ]
  },
  {
   "cell_type": "code",
   "execution_count": null,
   "metadata": {},
   "outputs": [],
   "source": [
    "for rnd in fits_dfs.keys():\n",
    "    print(rnd)\n",
    "    display(HTML(fits_dfs[rnd][fits_dfs[rnd]['ic50_bound']=='upper'].to_html(index=False)))"
   ]
  },
  {
   "cell_type": "markdown",
   "metadata": {},
   "source": [
    "## Plot all neut curves"
   ]
  },
  {
   "cell_type": "code",
   "execution_count": null,
   "metadata": {},
   "outputs": [],
   "source": [
    "for rnd in fits.keys():\n",
    "    fig, axes = fits[rnd].plotSera(xlabel='concentration/dilution')"
   ]
  },
  {
   "cell_type": "markdown",
   "metadata": {},
   "source": [
    "## Plot Ty1-Fc control neut curves"
   ]
  },
  {
   "cell_type": "code",
   "execution_count": null,
   "metadata": {},
   "outputs": [],
   "source": [
    "curve = fits['rnd1'].getCurve(serum='Ty1-Fc', virus='S-d21-D614G', replicate='1')\n",
    "print(f\"The IC50 is {curve.ic50():.3g}\")\n",
    "fig, ax = curve.plot()"
   ]
  },
  {
   "cell_type": "code",
   "execution_count": null,
   "metadata": {},
   "outputs": [],
   "source": [
    "curve = fits['rnd2'].getCurve(serum='Ty1-FC', virus='S-d21-D614G', replicate='1')\n",
    "print(f\"The IC50 is {curve.ic50():.3g}\")\n",
    "fig, ax = curve.plot()"
   ]
  },
  {
   "cell_type": "code",
   "execution_count": null,
   "metadata": {},
   "outputs": [],
   "source": [
    "curve = fits['rnd3'].getCurve(serum='Ty1', virus='S-d21-D614G', replicate='average')\n",
    "print(f\"The IC50 is {curve.ic50():.3g}\")\n",
    "fig, ax = curve.plot()"
   ]
  },
  {
   "cell_type": "code",
   "execution_count": null,
   "metadata": {},
   "outputs": [],
   "source": [
    "curve = fits['rnd4'].getCurve(serum='Ty1', virus='S-d21-D614G', replicate='average')\n",
    "print(f\"The IC50 is {curve.ic50():.3g}\")\n",
    "fig, ax = curve.plot()"
   ]
  },
  {
   "cell_type": "code",
   "execution_count": null,
   "metadata": {},
   "outputs": [],
   "source": [
    "curve = fits['rnd5'].getCurve(serum='Ty1', virus='S-d21-D614G', replicate='average')\n",
    "print(f\"The IC50 is {curve.ic50():.3g}\")\n",
    "fig, ax = curve.plot()"
   ]
  },
  {
   "cell_type": "code",
   "execution_count": null,
   "metadata": {},
   "outputs": [],
   "source": [
    "curve = fits['rnd6'].getCurve(serum='Ty1-Fc', virus='S-d21-D614G', replicate='average')\n",
    "print(f\"The IC50 is {curve.ic50():.3g}\")\n",
    "fig, ax = curve.plot()"
   ]
  },
  {
   "cell_type": "code",
   "execution_count": null,
   "metadata": {},
   "outputs": [],
   "source": [
    "curve = fits['rnd1'].getCurve(serum='20/130 Ref', virus='S-d21-D614G', replicate='average')\n",
    "print(f\"The IC50 is {1/curve.ic50():.3g}\")\n",
    "fig, ax = curve.plot()"
   ]
  },
  {
   "cell_type": "code",
   "execution_count": null,
   "metadata": {},
   "outputs": [],
   "source": [
    "curve = fits['rnd3'].getCurve(serum='Ref 20/130', virus='S-d21-D614G', replicate='average')\n",
    "print(f\"The IC50 is {1/curve.ic50():.3g}\")\n",
    "fig, ax = curve.plot()"
   ]
  },
  {
   "cell_type": "code",
   "execution_count": null,
   "metadata": {},
   "outputs": [],
   "source": [
    "curve = fits['rnd5'].getCurve(serum='Ref 20/130', virus='S-d21-D614G', replicate='average')\n",
    "print(f\"The IC50 is {1/curve.ic50():.3g}\")\n",
    "fig, ax = curve.plot()"
   ]
  },
  {
   "cell_type": "markdown",
   "metadata": {},
   "source": [
    "## Combine data into one df\n"
   ]
  },
  {
   "cell_type": "code",
   "execution_count": null,
   "metadata": {},
   "outputs": [],
   "source": [
    "all_data_df = pd.concat(fits_dfs)"
   ]
  },
  {
   "cell_type": "markdown",
   "metadata": {},
   "source": [
    "## Drop Earlier Data for Samples that were re-run\n",
    "\n",
    "Drop first sample and only keep re-run for samples that were re-run."
   ]
  },
  {
   "cell_type": "code",
   "execution_count": null,
   "metadata": {},
   "outputs": [],
   "source": [
    "rerun = ['0829-1', '0879-1', '0858-1', '0854-1', '0856-1', '0805-1', '0818-1',\n",
    "         '0817-1', '0835-1', '0873-1', '0866-1', '0824-1', '0834-1']"
   ]
  },
  {
   "cell_type": "code",
   "execution_count": null,
   "metadata": {},
   "outputs": [],
   "source": [
    "print(len(all_data_df))\n",
    "drop_idxs = []\n",
    "for sample in rerun:\n",
    "    sample_data = all_data_df[all_data_df['serum']==sample]\n",
    "    drop_idxs.append(sample_data['DateSetUp'].idxmin()) # drop earlier run\n",
    "\n",
    "cleaned_data_df = all_data_df.drop(drop_idxs).reset_index(drop=True)\n",
    "display(HTML(cleaned_data_df.head().to_html(index=False)))\n",
    "print(len(cleaned_data_df))"
   ]
  },
  {
   "cell_type": "markdown",
   "metadata": {},
   "source": [
    "### Output relevant data to csv\n",
    "\n",
    "Output columns: `serum`, `ic50`, `ic90`, `nt50`, `nt90`, `DateSetUp`, `Plate`, `SampleNum`"
   ]
  },
  {
   "cell_type": "code",
   "execution_count": null,
   "metadata": {},
   "outputs": [],
   "source": [
    "export_df_all = all_data_df[['serum', 'ic50', 'ic90', 'nt50', 'nt90', 'DateSetUp', 'Plate', 'SampleNum']]\n",
    "export_df_clean = cleaned_data_df[['serum', 'ic50', 'ic90', 'nt50', 'nt90', 'DateSetUp', 'Plate', 'SampleNum']]\n",
    "\n",
    "# `all_neut_results` includes all neuts, including the first neuts\n",
    "# from samples I reran and all controls.\n",
    "export_df_all.to_csv('./all_neut_results.csv') \n",
    "# `mouse_plus_ctrls_neuts` only includes the later neuts for the\n",
    "# samples I re-ran and all controls.\n",
    "export_df_clean.to_csv('./mouse_plus_ctrls_neuts.csv')"
   ]
  },
  {
   "cell_type": "markdown",
   "metadata": {},
   "source": [
    "## Initial Analyses\n",
    "\n",
    "Only including re-runs for samples I ran twice.\n",
    "Not including controls.\n",
    "\n",
    "Export csv after adding timepoint and mouse data."
   ]
  },
  {
   "cell_type": "code",
   "execution_count": null,
   "metadata": {},
   "outputs": [],
   "source": [
    "drop_samples = ['GF-8', 'Ref 20/130', '2017-2018 Serum Pool', '2017-2018 Pool', '20/130 Ref', '2017-2018 serum pool', 'Ty1', 'Ty1-FC', 'Ty1-Fc']\n",
    "cleaned_data_df = cleaned_data_df[~cleaned_data_df['serum'].isin(drop_samples)].copy()\n",
    "cleaned_data_df['Timepoint'] = cleaned_data_df['serum'].apply(lambda x: 'Prime' if '-1' in x else 'Boost')\n",
    "cleaned_data_df['Mouse'] = cleaned_data_df['serum'].apply(lambda x: x[:-2])"
   ]
  },
  {
   "cell_type": "code",
   "execution_count": null,
   "metadata": {},
   "outputs": [],
   "source": [
    "display(cleaned_data_df.sort_values('Mouse').reset_index(drop=True).head())"
   ]
  },
  {
   "cell_type": "code",
   "execution_count": null,
   "metadata": {},
   "outputs": [],
   "source": [
    "groups = {'Group 1': ['0840', '0837', '0839', '0794', '0795', '0793'], \n",
    "          'Group 2': ['0801', '0803', '0805', '0850', '0848', '0846'],\n",
    "          'Group 3': ['0808', '0807', '0810', '0853', '0854', '0852'],\n",
    "          'Group 4': ['0813', '0812', '0815', '0856', '0858', '0859'],\n",
    "          'Group 5': ['0816', '0818', '0817', '0864', '0861', '0863'],\n",
    "          'Group 6': ['0835', '0831', '0834', '0867', '0866', '0870'],\n",
    "          'Group 7': ['0827', '0828', '0829', '0874', '0873', '0872'],\n",
    "          'Group 8': ['0823', '0824', '0825', '0879', '0877', '0876']}"
   ]
  },
  {
   "cell_type": "code",
   "execution_count": null,
   "metadata": {},
   "outputs": [],
   "source": [
    "cleaned_data_df[\"Group\"] = cleaned_data_df[\"Mouse\"].apply(lambda x: [group for group in groups.keys() if x in groups[group]][0])"
   ]
  },
  {
   "cell_type": "code",
   "execution_count": null,
   "metadata": {},
   "outputs": [],
   "source": [
    "display(cleaned_data_df.head())"
   ]
  },
  {
   "cell_type": "markdown",
   "metadata": {},
   "source": [
    "### Export csv of cleaned mouse neut data\n",
    "\n",
    "Only includes latest run for samples I re-ran and doesn't include human serum (e.g. naive serum, ref serum or GF-8 sample) or Ty1-FC controls."
   ]
  },
  {
   "cell_type": "code",
   "execution_count": null,
   "metadata": {},
   "outputs": [],
   "source": [
    "export_df_clean_noctrls = cleaned_data_df[['serum', 'ic50', 'ic90', 'nt50', 'nt90', 'DateSetUp', 'Plate', 'SampleNum', 'Timepoint', 'Mouse', 'Group']]\n",
    "# `mouse_neuts` only includes the mouse neuts (no controls) and \n",
    "# only includes the later data for the samples I re-ran\n",
    "export_df_clean_noctrls.to_csv('./mouse_neuts.csv')"
   ]
  },
  {
   "cell_type": "markdown",
   "metadata": {},
   "source": [
    "### Initial plotting"
   ]
  },
  {
   "cell_type": "code",
   "execution_count": null,
   "metadata": {},
   "outputs": [],
   "source": [
    "group_list = ['Group 1', 'Group 2', 'Group 3', 'Group 4', 'Group 5',\n",
    "              'Group 6', 'Group 7', 'Group 8']\n",
    "group_cat = pd.Categorical(cleaned_data_df['Group'], categories=group_list)\n",
    "\n",
    "tp_list = ['Prime', 'Boost']\n",
    "tp_cat = pd.Categorical(cleaned_data_df['Timepoint'], categories=tp_list)\n",
    "\n",
    "# assign to a new column in the DataFrame\n",
    "cleaned_data_df = cleaned_data_df.assign(group_order = group_cat)\n",
    "cleaned_data_df = cleaned_data_df.assign(timepoint_order = tp_cat)"
   ]
  },
  {
   "cell_type": "code",
   "execution_count": null,
   "metadata": {},
   "outputs": [],
   "source": [
    "ic50s_plot = (ggplot(cleaned_data_df, aes('group_order', 'nt50', color='tp_cat')) +\n",
    "              geom_boxplot(outlier_alpha=0) +\n",
    "              geom_point(size=2, alpha=0.5, position=position_dodge(width=0.75)) +\n",
    "              scale_color_manual(values=CBP) +\n",
    "              theme(axis_text_x=element_text(angle=90, vjust=1, hjust=0.5),\n",
    "                    figure_size=(8, 6)) +\n",
    "#               facet_wrap('~ timepoint_order') +\n",
    "              geom_hline(yintercept=20, color='grey', linetype='dashed') +\n",
    "              scale_y_continuous(trans='log10') +\n",
    "              labs(color='Timepoint')\n",
    "             )\n",
    "\n",
    "_ = ic50s_plot.draw()"
   ]
  },
  {
   "cell_type": "markdown",
   "metadata": {},
   "source": [
    "### Convert to Markdown"
   ]
  },
  {
   "cell_type": "code",
   "execution_count": null,
   "metadata": {},
   "outputs": [],
   "source": [
    "!jupyter nbconvert MouseNeuts.ipynb --to markdown"
   ]
  },
  {
   "cell_type": "code",
   "execution_count": null,
   "metadata": {},
   "outputs": [],
   "source": []
  },
  {
   "cell_type": "code",
   "execution_count": null,
   "metadata": {},
   "outputs": [],
   "source": []
  }
 ],
 "metadata": {
  "kernelspec": {
   "display_name": "Python 3",
   "language": "python",
   "name": "python3"
  },
  "language_info": {
   "codemirror_mode": {
    "name": "ipython",
    "version": 3
   },
   "file_extension": ".py",
   "mimetype": "text/x-python",
   "name": "python",
   "nbconvert_exporter": "python",
   "pygments_lexer": "ipython3",
   "version": "3.8.5"
  }
 },
 "nbformat": 4,
 "nbformat_minor": 4
}
